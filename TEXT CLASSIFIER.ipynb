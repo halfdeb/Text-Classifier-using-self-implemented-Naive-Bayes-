{
 "cells": [
  {
   "cell_type": "markdown",
   "id": "aaaf1360",
   "metadata": {},
   "source": [
    "# LOADING DATASETS \n",
    "\n",
    "### Importing Modules"
   ]
  },
  {
   "cell_type": "code",
   "execution_count": 1,
   "id": "be9e7bf1",
   "metadata": {},
   "outputs": [],
   "source": [
    "import numpy as np\n",
    "import pandas as pd\n",
    "import string\n",
    "import matplotlib.pyplot as plt\n",
    "\n",
    "#importing libraries to find stop words and for tokeniztion\n",
    "from nltk.corpus import stopwords\n",
    "from nltk.tokenize import word_tokenize\n",
    "\n",
    "#importing sklearn libraries\n",
    "from sklearn.datasets import fetch_20newsgroups\n",
    "from sklearn.model_selection import train_test_split\n",
    "from sklearn.naive_bayes import MultinomialNB\n",
    "from sklearn.metrics import classification_report\n",
    "from sklearn.metrics import confusion_matrix"
   ]
  },
  {
   "cell_type": "markdown",
   "id": "374df75d",
   "metadata": {},
   "source": [
    "### Importing Dataset"
   ]
  },
  {
   "cell_type": "code",
   "execution_count": 2,
   "id": "44260415",
   "metadata": {},
   "outputs": [],
   "source": [
    "#importing the dataset directly from sklearn\n",
    "#cause dataset given can only be uploaded in unix or linux\n",
    "#but the dataset is same in both of the cases\n",
    "newsgroup = fetch_20newsgroups()"
   ]
  },
  {
   "cell_type": "markdown",
   "id": "e16b7397",
   "metadata": {},
   "source": [
    "# DATA PRE-PROCESSING"
   ]
  },
  {
   "cell_type": "markdown",
   "id": "48ae2cbc",
   "metadata": {},
   "source": [
    "### First look at the Dataset"
   ]
  },
  {
   "cell_type": "code",
   "execution_count": 3,
   "id": "63bb9937",
   "metadata": {},
   "outputs": [
    {
     "name": "stdout",
     "output_type": "stream",
     "text": [
      "dict_keys(['data', 'filenames', 'target_names', 'target', 'DESCR'])\n",
      "11314\n"
     ]
    }
   ],
   "source": [
    "#basic look at what keys we have and the length of our data\n",
    "print(newsgroup.keys())\n",
    "print(len(newsgroup.data))"
   ]
  },
  {
   "cell_type": "code",
   "execution_count": 4,
   "id": "c2e12596",
   "metadata": {
    "scrolled": true
   },
   "outputs": [
    {
     "data": {
      "text/plain": [
       "'.. _20newsgroups_dataset:\\n\\nThe 20 newsgroups text dataset\\n------------------------------\\n\\nThe 20 newsgroups dataset comprises around 18000 newsgroups posts on\\n20 topics split in two subsets: one for training (or development)\\nand the other one for testing (or for performance evaluation). The split\\nbetween the train and test set is based upon a messages posted before\\nand after a specific date.\\n\\nThis module contains two loaders. The first one,\\n:func:`sklearn.datasets.fetch_20newsgroups`,\\nreturns a list of the raw texts that can be fed to text feature\\nextractors such as :class:`~sklearn.feature_extraction.text.CountVectorizer`\\nwith custom parameters so as to extract feature vectors.\\nThe second one, :func:`sklearn.datasets.fetch_20newsgroups_vectorized`,\\nreturns ready-to-use features, i.e., it is not necessary to use a feature\\nextractor.\\n\\n**Data Set Characteristics:**\\n\\n    =================   ==========\\n    Classes                     20\\n    Samples total            18846\\n    Dimensionality               1\\n    Features                  text\\n    =================   ==========\\n\\nUsage\\n~~~~~\\n\\nThe :func:`sklearn.datasets.fetch_20newsgroups` function is a data\\nfetching / caching functions that downloads the data archive from\\nthe original `20 newsgroups website`_, extracts the archive contents\\nin the ``~/scikit_learn_data/20news_home`` folder and calls the\\n:func:`sklearn.datasets.load_files` on either the training or\\ntesting set folder, or both of them::\\n\\n  >>> from sklearn.datasets import fetch_20newsgroups\\n  >>> newsgroups_train = fetch_20newsgroups(subset=\\'train\\')\\n\\n  >>> from pprint import pprint\\n  >>> pprint(list(newsgroups_train.target_names))\\n  [\\'alt.atheism\\',\\n   \\'comp.graphics\\',\\n   \\'comp.os.ms-windows.misc\\',\\n   \\'comp.sys.ibm.pc.hardware\\',\\n   \\'comp.sys.mac.hardware\\',\\n   \\'comp.windows.x\\',\\n   \\'misc.forsale\\',\\n   \\'rec.autos\\',\\n   \\'rec.motorcycles\\',\\n   \\'rec.sport.baseball\\',\\n   \\'rec.sport.hockey\\',\\n   \\'sci.crypt\\',\\n   \\'sci.electronics\\',\\n   \\'sci.med\\',\\n   \\'sci.space\\',\\n   \\'soc.religion.christian\\',\\n   \\'talk.politics.guns\\',\\n   \\'talk.politics.mideast\\',\\n   \\'talk.politics.misc\\',\\n   \\'talk.religion.misc\\']\\n\\nThe real data lies in the ``filenames`` and ``target`` attributes. The target\\nattribute is the integer index of the category::\\n\\n  >>> newsgroups_train.filenames.shape\\n  (11314,)\\n  >>> newsgroups_train.target.shape\\n  (11314,)\\n  >>> newsgroups_train.target[:10]\\n  array([ 7,  4,  4,  1, 14, 16, 13,  3,  2,  4])\\n\\nIt is possible to load only a sub-selection of the categories by passing the\\nlist of the categories to load to the\\n:func:`sklearn.datasets.fetch_20newsgroups` function::\\n\\n  >>> cats = [\\'alt.atheism\\', \\'sci.space\\']\\n  >>> newsgroups_train = fetch_20newsgroups(subset=\\'train\\', categories=cats)\\n\\n  >>> list(newsgroups_train.target_names)\\n  [\\'alt.atheism\\', \\'sci.space\\']\\n  >>> newsgroups_train.filenames.shape\\n  (1073,)\\n  >>> newsgroups_train.target.shape\\n  (1073,)\\n  >>> newsgroups_train.target[:10]\\n  array([0, 1, 1, 1, 0, 1, 1, 0, 0, 0])\\n\\nConverting text to vectors\\n~~~~~~~~~~~~~~~~~~~~~~~~~~\\n\\nIn order to feed predictive or clustering models with the text data,\\none first need to turn the text into vectors of numerical values suitable\\nfor statistical analysis. This can be achieved with the utilities of the\\n``sklearn.feature_extraction.text`` as demonstrated in the following\\nexample that extract `TF-IDF`_ vectors of unigram tokens\\nfrom a subset of 20news::\\n\\n  >>> from sklearn.feature_extraction.text import TfidfVectorizer\\n  >>> categories = [\\'alt.atheism\\', \\'talk.religion.misc\\',\\n  ...               \\'comp.graphics\\', \\'sci.space\\']\\n  >>> newsgroups_train = fetch_20newsgroups(subset=\\'train\\',\\n  ...                                       categories=categories)\\n  >>> vectorizer = TfidfVectorizer()\\n  >>> vectors = vectorizer.fit_transform(newsgroups_train.data)\\n  >>> vectors.shape\\n  (2034, 34118)\\n\\nThe extracted TF-IDF vectors are very sparse, with an average of 159 non-zero\\ncomponents by sample in a more than 30000-dimensional space\\n(less than .5% non-zero features)::\\n\\n  >>> vectors.nnz / float(vectors.shape[0])\\n  159.01327...\\n\\n:func:`sklearn.datasets.fetch_20newsgroups_vectorized` is a function which\\nreturns ready-to-use token counts features instead of file names.\\n\\n.. _`20 newsgroups website`: http://people.csail.mit.edu/jrennie/20Newsgroups/\\n.. _`TF-IDF`: https://en.wikipedia.org/wiki/Tf-idf\\n\\n\\nFiltering text for more realistic training\\n~~~~~~~~~~~~~~~~~~~~~~~~~~~~~~~~~~~~~~~~~~\\n\\nIt is easy for a classifier to overfit on particular things that appear in the\\n20 Newsgroups data, such as newsgroup headers. Many classifiers achieve very\\nhigh F-scores, but their results would not generalize to other documents that\\naren\\'t from this window of time.\\n\\nFor example, let\\'s look at the results of a multinomial Naive Bayes classifier,\\nwhich is fast to train and achieves a decent F-score::\\n\\n  >>> from sklearn.naive_bayes import MultinomialNB\\n  >>> from sklearn import metrics\\n  >>> newsgroups_test = fetch_20newsgroups(subset=\\'test\\',\\n  ...                                      categories=categories)\\n  >>> vectors_test = vectorizer.transform(newsgroups_test.data)\\n  >>> clf = MultinomialNB(alpha=.01)\\n  >>> clf.fit(vectors, newsgroups_train.target)\\n  MultinomialNB(alpha=0.01, class_prior=None, fit_prior=True)\\n\\n  >>> pred = clf.predict(vectors_test)\\n  >>> metrics.f1_score(newsgroups_test.target, pred, average=\\'macro\\')\\n  0.88213...\\n\\n(The example :ref:`sphx_glr_auto_examples_text_plot_document_classification_20newsgroups.py` shuffles\\nthe training and test data, instead of segmenting by time, and in that case\\nmultinomial Naive Bayes gets a much higher F-score of 0.88. Are you suspicious\\nyet of what\\'s going on inside this classifier?)\\n\\nLet\\'s take a look at what the most informative features are:\\n\\n  >>> import numpy as np\\n  >>> def show_top10(classifier, vectorizer, categories):\\n  ...     feature_names = vectorizer.get_feature_names_out()\\n  ...     for i, category in enumerate(categories):\\n  ...         top10 = np.argsort(classifier.coef_[i])[-10:]\\n  ...         print(\"%s: %s\" % (category, \" \".join(feature_names[top10])))\\n  ...\\n  >>> show_top10(clf, vectorizer, newsgroups_train.target_names)\\n  alt.atheism: edu it and in you that is of to the\\n  comp.graphics: edu in graphics it is for and of to the\\n  sci.space: edu it that is in and space to of the\\n  talk.religion.misc: not it you in is that and to of the\\n\\n\\nYou can now see many things that these features have overfit to:\\n\\n- Almost every group is distinguished by whether headers such as\\n  ``NNTP-Posting-Host:`` and ``Distribution:`` appear more or less often.\\n- Another significant feature involves whether the sender is affiliated with\\n  a university, as indicated either by their headers or their signature.\\n- The word \"article\" is a significant feature, based on how often people quote\\n  previous posts like this: \"In article [article ID], [name] <[e-mail address]>\\n  wrote:\"\\n- Other features match the names and e-mail addresses of particular people who\\n  were posting at the time.\\n\\nWith such an abundance of clues that distinguish newsgroups, the classifiers\\nbarely have to identify topics from text at all, and they all perform at the\\nsame high level.\\n\\nFor this reason, the functions that load 20 Newsgroups data provide a\\nparameter called **remove**, telling it what kinds of information to strip out\\nof each file. **remove** should be a tuple containing any subset of\\n``(\\'headers\\', \\'footers\\', \\'quotes\\')``, telling it to remove headers, signature\\nblocks, and quotation blocks respectively.\\n\\n  >>> newsgroups_test = fetch_20newsgroups(subset=\\'test\\',\\n  ...                                      remove=(\\'headers\\', \\'footers\\', \\'quotes\\'),\\n  ...                                      categories=categories)\\n  >>> vectors_test = vectorizer.transform(newsgroups_test.data)\\n  >>> pred = clf.predict(vectors_test)\\n  >>> metrics.f1_score(pred, newsgroups_test.target, average=\\'macro\\')\\n  0.77310...\\n\\nThis classifier lost over a lot of its F-score, just because we removed\\nmetadata that has little to do with topic classification.\\nIt loses even more if we also strip this metadata from the training data:\\n\\n  >>> newsgroups_train = fetch_20newsgroups(subset=\\'train\\',\\n  ...                                       remove=(\\'headers\\', \\'footers\\', \\'quotes\\'),\\n  ...                                       categories=categories)\\n  >>> vectors = vectorizer.fit_transform(newsgroups_train.data)\\n  >>> clf = MultinomialNB(alpha=.01)\\n  >>> clf.fit(vectors, newsgroups_train.target)\\n  MultinomialNB(alpha=0.01, class_prior=None, fit_prior=True)\\n\\n  >>> vectors_test = vectorizer.transform(newsgroups_test.data)\\n  >>> pred = clf.predict(vectors_test)\\n  >>> metrics.f1_score(newsgroups_test.target, pred, average=\\'macro\\')\\n  0.76995...\\n\\nSome other classifiers cope better with this harder version of the task. Try the\\n:ref:`sphx_glr_auto_examples_model_selection_plot_grid_search_text_feature_extraction.py`\\nexample with and without the `remove` option to compare the results.\\n\\n.. topic:: Data Considerations\\n\\n  The Cleveland Indians is a major league baseball team based in Cleveland,\\n  Ohio, USA. In December 2020, it was reported that \"After several months of\\n  discussion sparked by the death of George Floyd and a national reckoning over\\n  race and colonialism, the Cleveland Indians have decided to change their\\n  name.\" Team owner Paul Dolan \"did make it clear that the team will not make\\n  its informal nickname -- the Tribe -- its new team name.\" \"It\\'s not going to\\n  be a half-step away from the Indians,\" Dolan said.\"We will not have a Native\\n  American-themed name.\"\\n\\n  https://www.mlb.com/news/cleveland-indians-team-name-change\\n\\n.. topic:: Recommendation\\n\\n  - When evaluating text classifiers on the 20 Newsgroups data, you\\n    should strip newsgroup-related metadata. In scikit-learn, you can do this\\n    by setting ``remove=(\\'headers\\', \\'footers\\', \\'quotes\\')``. The F-score will be\\n    lower because it is more realistic.\\n  - This text dataset contains data which may be inappropriate for certain NLP\\n    applications. An example is listed in the \"Data Considerations\" section\\n    above. The challenge with using current text datasets in NLP for tasks such\\n    as sentence completion, clustering, and other applications is that text\\n    that is culturally biased and inflammatory will propagate biases. This\\n    should be taken into consideration when using the dataset, reviewing the\\n    output, and the bias should be documented.\\n\\n.. topic:: Examples\\n\\n   * :ref:`sphx_glr_auto_examples_model_selection_plot_grid_search_text_feature_extraction.py`\\n\\n   * :ref:`sphx_glr_auto_examples_text_plot_document_classification_20newsgroups.py`\\n\\n   * :ref:`sphx_glr_auto_examples_text_plot_hashing_vs_dict_vectorizer.py`\\n\\n   * :ref:`sphx_glr_auto_examples_text_plot_document_clustering.py`\\n'"
      ]
     },
     "execution_count": 4,
     "metadata": {},
     "output_type": "execute_result"
    }
   ],
   "source": [
    "newsgroup.DESCR"
   ]
  },
  {
   "cell_type": "markdown",
   "id": "15bae2cd",
   "metadata": {},
   "source": [
    "### Train Test Split"
   ]
  },
  {
   "cell_type": "code",
   "execution_count": 5,
   "id": "c2402dc1",
   "metadata": {
    "scrolled": true
   },
   "outputs": [],
   "source": [
    "X = newsgroup.data\n",
    "Y = newsgroup.target\n",
    "#modifying X in a way we have list of list of words(tokenized data for each document)\n",
    "X_modified = [word_tokenize(doc) for doc in X]\n",
    "#spliting the dataset into training and testing\n",
    "x_train, x_test, y_train, y_test = train_test_split(X_modified, Y, random_state = 1)"
   ]
  },
  {
   "cell_type": "markdown",
   "id": "92ec910c",
   "metadata": {},
   "source": [
    "### Creating vocabulary without stopwords\n",
    "\n",
    "adding all the stopwords in a single variable"
   ]
  },
  {
   "cell_type": "code",
   "execution_count": 6,
   "id": "ce328619",
   "metadata": {},
   "outputs": [
    {
     "name": "stdout",
     "output_type": "stream",
     "text": [
      "824\n"
     ]
    }
   ],
   "source": [
    "#stopword and punctuation handling \n",
    "stops = set(stopwords.words('english'))#set of English stopwords using the NLTK library \n",
    "punctuations = list(string.punctuation)\n",
    "stops.update(punctuations)#adding punctions in the stop variable only\n",
    "#adding few more stop words downloaded from the internet(kaggle)\n",
    "more_stops = np.loadtxt(\"/Users/halfdeb/Downloads/Text Classifier/stopwords.txt\", dtype=str, delimiter=\" \")\n",
    "stops.update(more_stops)\n",
    "\n",
    "#checking the complete size of the sizeword\n",
    "print(len(stops))"
   ]
  },
  {
   "cell_type": "markdown",
   "id": "86983682",
   "metadata": {},
   "source": [
    "Filtering and tokenizing the text data(in the form list)"
   ]
  },
  {
   "cell_type": "code",
   "execution_count": 7,
   "id": "04114820",
   "metadata": {},
   "outputs": [
    {
     "data": {
      "text/plain": [
       "1263457"
      ]
     },
     "execution_count": 7,
     "metadata": {},
     "output_type": "execute_result"
    }
   ],
   "source": [
    "#creating a vocabulary(list) which will contain all the words\n",
    "all_words = []\n",
    "for doc in x_train:\n",
    "    for word in doc:\n",
    "        #1. converting all the words into lower case if its not a stop, otherwise remove it\n",
    "        #2. removing length 1 and 2 from my vocabulary because these words wont be helpful\n",
    "        #3. filtering out certain types of words\n",
    "        if(word.lower() not in stops) and len(word)!=1 and len(word)!=2 and word[0]!=\"'\" and word!=\"n't\" and word[0]!=\".\":\n",
    "            all_words.append(word)\n",
    "            \n",
    "#checking the length of the vocabulary\n",
    "len(all_words)"
   ]
  },
  {
   "cell_type": "markdown",
   "id": "8b33d969",
   "metadata": {},
   "source": [
    "converting the list into a dictonary"
   ]
  },
  {
   "cell_type": "code",
   "execution_count": 8,
   "id": "a7c0627d",
   "metadata": {},
   "outputs": [],
   "source": [
    "#creating a fuction to convert the list in a dictonary\n",
    "#keys -> particular words\n",
    "#values -> frequency of those words\n",
    "def freq_dic(all_words):\n",
    "    dic = {}\n",
    "    for word in all_words:\n",
    "        #if we encounter same key again we will increase the frequency by 1\n",
    "        if word in dic.keys():\n",
    "            dic[word] += 1\n",
    "        else:\n",
    "            dic[word] = 1\n",
    "    return dic\n",
    "\n",
    "#converting all_words(list) into a dictonary\n",
    "dic = freq_dic(all_words)"
   ]
  },
  {
   "cell_type": "markdown",
   "id": "a77c323d",
   "metadata": {},
   "source": [
    "### Visualization of the Data\n",
    "\n",
    "converting the keys and freq in seperate arrays(for plotting) & sorting them"
   ]
  },
  {
   "cell_type": "code",
   "execution_count": 9,
   "id": "90738a04",
   "metadata": {},
   "outputs": [],
   "source": [
    "#converting the keys and freq in seperate arrays(for plotting)\n",
    "freq = np.array([i for i in dic.values()])\n",
    "words = np.array([i for i in dic.keys()])\n",
    "\n",
    "#sorting all the values\n",
    "words=words[np.argsort(freq)][::-1]\n",
    "freq=np.sort(freq)[::-1]"
   ]
  },
  {
   "cell_type": "markdown",
   "id": "53b90878",
   "metadata": {},
   "source": [
    "plotting the graph"
   ]
  },
  {
   "cell_type": "code",
   "execution_count": 10,
   "id": "deb49865",
   "metadata": {},
   "outputs": [
    {
     "data": {
      "image/png": "[encoded data removed]",
      "text/plain": [
       "<Figure size 2000x700 with 1 Axes>"
      ]
     },
     "metadata": {},
     "output_type": "display_data"
    }
   ],
   "source": [
    "#setting the limits for our graph\n",
    "lower_limit = 0\n",
    "upper_limit = 3000\n",
    "#adjusting size of the graph for more clearity\n",
    "plt.figure(figsize = (20, 7))\n",
    "plt.plot(np.arange(len(freq))[lower_limit:upper_limit], freq[lower_limit:upper_limit])\n",
    "#labelling\n",
    "plt.xlabel('Words')\n",
    "plt.ylabel('Frequency')\n",
    "#adjusting the xticks\n",
    "plt.xticks(np.arange(lower_limit, upper_limit, 50), rotation=45)\n",
    "plt.grid()\n",
    "plt.show()"
   ]
  },
  {
   "cell_type": "markdown",
   "id": "3aa86d65",
   "metadata": {},
   "source": [
    "creating feature which only contains most frequently used words in all our documents"
   ]
  },
  {
   "cell_type": "code",
   "execution_count": 11,
   "id": "0cfdc4f3",
   "metadata": {},
   "outputs": [
    {
     "data": {
      "text/plain": [
       "(1873, 7)"
      ]
     },
     "execution_count": 11,
     "metadata": {},
     "output_type": "execute_result"
    }
   ],
   "source": [
    "features = words[20:20000]\n",
    "freq[20], freq[20000]"
   ]
  },
  {
   "cell_type": "markdown",
   "id": "b3619d67",
   "metadata": {},
   "source": [
    "### Data Modifier function & MODIFICATION"
   ]
  },
  {
   "cell_type": "markdown",
   "id": "963a8c9d",
   "metadata": {},
   "source": [
    "creating modification function"
   ]
  },
  {
   "cell_type": "code",
   "execution_count": 12,
   "id": "be9b45a9",
   "metadata": {},
   "outputs": [],
   "source": [
    "#This fucntion will take the parameters(x_train or x_test) and convert it into 2-D array\n",
    "#rows -> will be the documents\n",
    "#coloumns -> will be the features\n",
    "def data_modifier(x_data, features):\n",
    "    #creating modified_data which will have ZEROS & whose shape is (len(x_data), len(features)) at start\n",
    "    modified_data = np.zeros((len(x_data), len(features)))\n",
    "    \n",
    "    #creting dictionary\n",
    "    for i in range(len(x_data)):\n",
    "        current_doc=x_data[i]\n",
    "        d=dict()\n",
    "        for word in current_doc:\n",
    "            if word in d.keys():\n",
    "                d[word]+=1\n",
    "            else:\n",
    "                d[word]=1\n",
    "                    \n",
    "        #now for each feature we are adding values to the corresponding feature \n",
    "        for j in range(len(features)):\n",
    "            if features[j] in d.keys():\n",
    "                modified_data[i][j]=d[features[j]]\n",
    "            else:\n",
    "                #if the feature is not in the dictonary we will keep it as a zero\n",
    "                continue\n",
    "        \n",
    "    return modified_data"
   ]
  },
  {
   "cell_type": "markdown",
   "id": "a9c47682",
   "metadata": {},
   "source": [
    "modifying x_train and x_test"
   ]
  },
  {
   "cell_type": "code",
   "execution_count": 13,
   "id": "9082685a",
   "metadata": {},
   "outputs": [],
   "source": [
    "x_train_modified = data_modifier(x_train, features)\n",
    "x_test_modified = data_modifier(x_test, features)"
   ]
  },
  {
   "cell_type": "markdown",
   "id": "e69c2003",
   "metadata": {},
   "source": [
    "# MODEL\n",
    "\n",
    "### USING IN-BUILT NAIVE BAYES"
   ]
  },
  {
   "cell_type": "code",
   "execution_count": 14,
   "id": "8d890585",
   "metadata": {},
   "outputs": [
    {
     "data": {
      "text/plain": [
       "0.8812301166489925"
      ]
     },
     "execution_count": 14,
     "metadata": {},
     "output_type": "execute_result"
    }
   ],
   "source": [
    "clf = MultinomialNB()\n",
    "clf.fit(x_train_modified, y_train)\n",
    "clf.score(x_test_modified, y_test)"
   ]
  },
  {
   "cell_type": "code",
   "execution_count": 15,
   "id": "99695c4e",
   "metadata": {
    "scrolled": false
   },
   "outputs": [
    {
     "name": "stdout",
     "output_type": "stream",
     "text": [
      "              precision    recall  f1-score   support\n",
      "\n",
      "           0       0.84      0.89      0.86       114\n",
      "           1       0.70      0.85      0.77       152\n",
      "           2       0.91      0.72      0.80       139\n",
      "           3       0.75      0.82      0.78       152\n",
      "           4       0.83      0.91      0.87       138\n",
      "           5       0.85      0.86      0.85       153\n",
      "           6       0.80      0.78      0.79       147\n",
      "           7       0.90      0.89      0.90       137\n",
      "           8       0.91      0.96      0.94       131\n",
      "           9       0.93      0.95      0.94       135\n",
      "          10       0.99      0.96      0.97       136\n",
      "          11       0.95      0.99      0.97       145\n",
      "          12       0.90      0.78      0.83       157\n",
      "          13       0.95      0.96      0.96       151\n",
      "          14       0.95      0.94      0.94       155\n",
      "          15       0.91      0.91      0.91       159\n",
      "          16       0.88      0.97      0.93       140\n",
      "          17       0.97      0.93      0.95       149\n",
      "          18       0.89      0.87      0.88       138\n",
      "          19       0.86      0.67      0.76       101\n",
      "\n",
      "    accuracy                           0.88      2829\n",
      "   macro avg       0.88      0.88      0.88      2829\n",
      "weighted avg       0.88      0.88      0.88      2829\n",
      "\n"
     ]
    }
   ],
   "source": [
    "y_pred_test = clf.predict(x_test_modified)\n",
    "#printing the classification report for our own naive bayes classifier\n",
    "print(classification_report(y_true = y_test, y_pred = y_pred_test))"
   ]
  },
  {
   "cell_type": "code",
   "execution_count": 16,
   "id": "7adf8695",
   "metadata": {},
   "outputs": [
    {
     "name": "stdout",
     "output_type": "stream",
     "text": [
      "[[101   0   0   0   0   0   0   0   0   0   0   0   0   0   0   4   0   0\n",
      "    1   8]\n",
      " [  0 129   4   7   3   5   2   0   0   0   0   1   1   0   0   0   0   0\n",
      "    0   0]\n",
      " [  0  10 100  12   3  11   2   0   0   0   0   1   0   0   0   0   0   0\n",
      "    0   0]\n",
      " [  0   4   4 124   7   3   5   1   0   0   0   1   3   0   0   0   0   0\n",
      "    0   0]\n",
      " [  0   1   0   4 125   0   4   1   0   1   0   0   0   1   0   0   0   0\n",
      "    1   0]\n",
      " [  0  15   1   1   1 131   0   1   1   0   0   0   0   1   0   0   1   0\n",
      "    0   0]\n",
      " [  1   2   0   7   3   0 114   3   4   2   0   2   6   0   1   0   0   0\n",
      "    2   0]\n",
      " [  0   0   0   0   0   0   6 122   2   2   0   0   2   0   2   0   1   0\n",
      "    0   0]\n",
      " [  0   0   0   0   0   0   3   1 126   0   0   0   0   0   0   0   1   0\n",
      "    0   0]\n",
      " [  0   2   0   2   0   0   0   0   0 128   1   0   0   1   0   1   0   0\n",
      "    0   0]\n",
      " [  0   0   0   0   0   0   2   0   1   2 130   0   0   0   0   0   1   0\n",
      "    0   0]\n",
      " [  0   1   0   0   0   0   0   0   0   0   0 143   0   0   1   0   0   0\n",
      "    0   0]\n",
      " [  0   6   1   9   8   4   1   4   1   0   0   0 122   0   0   0   1   0\n",
      "    0   0]\n",
      " [  0   1   0   0   0   0   0   1   1   0   0   0   1 145   2   0   0   0\n",
      "    0   0]\n",
      " [  0   6   0   0   0   0   0   0   0   0   0   0   0   3 146   0   0   0\n",
      "    0   0]\n",
      " [  4   1   0   0   0   0   1   0   0   0   0   0   1   1   0 144   1   0\n",
      "    4   2]\n",
      " [  0   0   0   0   0   0   0   0   1   0   0   1   0   0   0   0 136   0\n",
      "    2   0]\n",
      " [  1   3   0   0   0   0   1   1   0   0   0   0   0   0   0   2   0 139\n",
      "    2   0]\n",
      " [  1   1   0   0   0   0   1   0   1   3   0   1   0   0   0   0   7   2\n",
      "  120   1]\n",
      " [ 12   1   0   0   0   0   0   0   0   0   0   0   0   0   2   8   5   2\n",
      "    3  68]]\n"
     ]
    }
   ],
   "source": [
    "print(confusion_matrix(y_true = y_test, y_pred = y_pred_test))"
   ]
  },
  {
   "cell_type": "markdown",
   "id": "36680f1a",
   "metadata": {},
   "source": [
    "### SELF IMPLEMENTED NAIVE BAYES\n",
    "\n",
    "creating all the function required for naive bayes classification"
   ]
  },
  {
   "cell_type": "code",
   "execution_count": 17,
   "id": "9bf4ece0",
   "metadata": {},
   "outputs": [],
   "source": [
    "def fit(x_train, y_train):\n",
    "    dic = {}\n",
    "    for i in range(20):\n",
    "        #these are all the documents we need to work upon corresponding to the class i\n",
    "        needed_docs = x_train[y_train == i]\n",
    "        #count is a dictionary whose each key is yet another dictionary\n",
    "        dic[i] = {}\n",
    "        #it will maintain the total number of words in class i\n",
    "        dic[i]['total'] = 0\n",
    "        for j in range(len(features)):\n",
    "            #it gives how many times jth feature is coming corresponding to class i\n",
    "            dic[i][features[j]] = needed_docs[:, j].sum()\n",
    "            #this stores the sum of all the values of ith key\n",
    "            dic[i]['total'] += dic[i][features[j]]\n",
    "\n",
    "    #returning the dictionary\n",
    "    return dic\n",
    "\n",
    "def probability(dictionary, x, current_class):\n",
    "    probas_for_each_word = []\n",
    "    #iterating through each feature\n",
    "    for i in range(len(x)):\n",
    "        if x[i] != 0:\n",
    "            #it denotes that how many times that ith feature is occuring in current_class\n",
    "            numerator = dictionary[current_class][features[i]]\n",
    "            #it denotes that what is the total number of words in the current class          \n",
    "            denominator = dictionary[current_class]['total']\n",
    "            \n",
    "            #log probability with laplace correction\n",
    "            proba = np.log((numerator+1)/(denominator+len(x)))\n",
    "            #appending the value\n",
    "            probas_for_each_word.append(proba)\n",
    "            \n",
    "    #returning the logarithmic sum of all the probabilities\n",
    "    return sum(probas_for_each_word)\n",
    "\n",
    "def predict_single(dic, x):\n",
    "    #this variable \"classes\" maintains all the possible different classes available to us\n",
    "    classes = dictionary.keys()\n",
    "    best_p = -1000\n",
    "    best_class = -1\n",
    "    first_run = True\n",
    "    \n",
    "    #iterating through each and every class in all possible classes\n",
    "    for current_class in classes:\n",
    "        #p_current_class is the probability of current class\n",
    "        p_current_class = probability(dic, x, current_class)\n",
    "        if (first_run or p_current_class > best_p):\n",
    "            best_p = p_current_class\n",
    "            best_class = current_class\n",
    "        first_run = False\n",
    "        \n",
    "    #returning the best predicted class for the current data point\n",
    "    return best_class\n",
    "\n",
    "def predict(x_test, dic):\n",
    "    y_pred = []\n",
    "    #iterating each document in testing data\n",
    "    for doc in x_test:\n",
    "        y_pred.append(predict_single(dic, doc))\n",
    "    return y_pred"
   ]
  },
  {
   "cell_type": "markdown",
   "id": "c2657f35",
   "metadata": {},
   "source": [
    "Predicting with the self implemented Naive Bayes"
   ]
  },
  {
   "cell_type": "code",
   "execution_count": 18,
   "id": "277cfa9f",
   "metadata": {},
   "outputs": [],
   "source": [
    "dictionary = fit(x_train_modified, y_train)\n",
    "y_predicted = predict(x_test_modified, dictionary)"
   ]
  },
  {
   "cell_type": "code",
   "execution_count": 19,
   "id": "1a3fd723",
   "metadata": {},
   "outputs": [
    {
     "name": "stdout",
     "output_type": "stream",
     "text": [
      "              precision    recall  f1-score   support\n",
      "\n",
      "           0       0.88      0.90      0.89       114\n",
      "           1       0.68      0.83      0.75       152\n",
      "           2       0.98      0.62      0.76       139\n",
      "           3       0.65      0.82      0.73       152\n",
      "           4       0.79      0.90      0.84       138\n",
      "           5       0.82      0.88      0.85       153\n",
      "           6       0.84      0.67      0.74       147\n",
      "           7       0.87      0.89      0.88       137\n",
      "           8       0.94      0.94      0.94       131\n",
      "           9       0.93      0.95      0.94       135\n",
      "          10       0.98      0.96      0.97       136\n",
      "          11       0.94      0.99      0.96       145\n",
      "          12       0.90      0.76      0.82       157\n",
      "          13       0.97      0.95      0.96       151\n",
      "          14       0.95      0.90      0.93       155\n",
      "          15       0.84      0.95      0.89       159\n",
      "          16       0.88      0.95      0.91       140\n",
      "          17       0.96      0.95      0.95       149\n",
      "          18       0.87      0.88      0.87       138\n",
      "          19       0.89      0.61      0.73       101\n",
      "\n",
      "    accuracy                           0.87      2829\n",
      "   macro avg       0.88      0.87      0.87      2829\n",
      "weighted avg       0.88      0.87      0.87      2829\n",
      "\n"
     ]
    }
   ],
   "source": [
    "#printing the classification report for our own naive bayes classifier\n",
    "print(classification_report(y_true = y_test, y_pred = y_predicted))"
   ]
  },
  {
   "cell_type": "code",
   "execution_count": 20,
   "id": "954ec64e",
   "metadata": {},
   "outputs": [
    {
     "name": "stdout",
     "output_type": "stream",
     "text": [
      "103    0    0    0    0    0    0    0    0    0    0    0    0    0    0    5    0    1    0    5    \n",
      "0    126    1    9    4    9    1    0    0    0    0    1    0    0    0    1    0    0    0    0    \n",
      "0    11    86    23    5    12    1    0    0    0    0    1    0    0    0    0    0    0    0    0    \n",
      "1    6    1    125    9    2    4    1    0    0    0    0    2    0    0    1    0    0    0    0    \n",
      "0    1    0    5    124    1    4    1    0    0    0    0    0    1    0    0    0    0    1    0    \n",
      "0    12    0    2    1    135    0    1    1    0    0    0    0    1    0    0    0    0    0    0    \n",
      "1    7    0    9    5    1    98    3    2    3    1    3    8    1    2    0    0    0    3    0    \n",
      "0    1    0    1    0    0    5    122    2    1    0    0    2    0    1    0    0    0    2    0    \n",
      "0    0    0    0    0    0    3    3    123    0    0    0    0    0    0    0    2    0    0    0    \n",
      "0    1    0    2    0    0    0    1    0    128    1    0    0    0    0    1    1    0    0    0    \n",
      "0    0    0    0    1    0    0    1    1    1    131    0    0    0    0    0    1    0    0    0    \n",
      "0    1    0    0    0    0    0    0    0    0    0    143    0    0    0    0    1    0    0    0    \n",
      "0    8    0    15    7    2    0    3    0    1    0    1    119    0    0    0    1    0    0    0    \n",
      "0    1    0    0    0    1    0    0    1    0    0    0    1    144    2    0    0    0    1    0    \n",
      "0    7    0    0    0    0    0    2    0    0    0    1    0    1    140    1    1    0    2    0    \n",
      "1    1    0    0    0    1    0    0    0    0    0    0    0    1    0    151    0    0    2    2    \n",
      "0    0    0    0    0    0    0    2    0    0    0    1    0    0    0    0    133    1    3    0    \n",
      "1    2    0    0    0    0    0    0    0    0    0    0    0    0    0    2    0    141    3    0    \n",
      "1    0    0    0    0    0    1    0    1    3    1    1    0    0    0    0    6    1    122    1    \n",
      "9    1    0    0    0    0    0    0    0    0    0    0    0    0    2    17    5    3    2    62    \n"
     ]
    }
   ],
   "source": [
    "#printing the confusion matrix for our own naive bayes classifier\n",
    "for i in confusion_matrix(y_true=y_test, y_pred=y_predicted):\n",
    "    for j in i:\n",
    "        print(j, end=\"    \")\n",
    "    print()"
   ]
  },
  {
   "cell_type": "markdown",
   "id": "a736a2c3",
   "metadata": {},
   "source": [
    "# OBSERVATIONS"
   ]
  },
  {
   "cell_type": "markdown",
   "id": "4a2c7c93",
   "metadata": {},
   "source": [
    "**COMPARISION**\n",
    "\n",
    "- The comparison between in-built and self-implemented Naive Bayes when the number of features selected is 20,000\n",
    "- Both in-built and self-implemented Naive Bayes are performing nearly the same.\n",
    "- One is performing really well in a few classes while the other is doing well in some other classes.\n",
    "- For in-built Naive Bayes, the accuracy is 88%.\n",
    "- For self-implemented Naive Bayes, the accuracy is 87%.\n",
    "\n",
    "**OTHER OBSERVATIONS**\n",
    "\n",
    "- Recall of some classes is excellent, while recall of others is moderate (because of feature selection).\n",
    "- More accurately the feature is selected, more will be precision, recall, and f1-score.\n",
    "- From the confusion matrix, we can determine that our algorithm is performing not that badly (for both the in-built and self-implemented models).\n",
    "- The accuracy can be increased up to 90% by increasing the number of features to 50000, but at 49999, the frequency is just 2 (so, not recommended)."
   ]
  }
 ],
 "metadata": {
  "kernelspec": {
   "display_name": "Python 3 (ipykernel)",
   "language": "python",
   "name": "python3"
  },
  "language_info": {
   "codemirror_mode": {
    "name": "ipython",
    "version": 3
   },
   "file_extension": ".py",
   "mimetype": "text/x-python",
   "name": "python",
   "nbconvert_exporter": "python",
   "pygments_lexer": "ipython3",
   "version": "3.11.4"
  }
 },
 "nbformat": 4,
 "nbformat_minor": 5
}
